{
 "cells": [
  {
   "cell_type": "code",
   "execution_count": null,
   "metadata": {},
   "outputs": [],
   "source": [
    "import xgboost as xgb\n",
    "import matplotlib.pyplot as plt\n",
    "from matplotlib import pyplot, figure\n",
    "from xgboost import XGBClassifier, plot_importance\n",
    "from pandas import read_csv\n",
    "from keras.losses import mean_squared_error\n",
    "from sklearn.model_selection import train_test_split\n",
    "from numpy import sqrt\n",
    "import bayes_opt\n",
    "from bayes_opt import BayesianOptimization"
   ]
  },
  {
   "cell_type": "code",
   "execution_count": null,
   "metadata": {},
   "outputs": [],
   "source": [
    "#Read in the data, set all NA's as 0\n",
    "df = read_csv('ucsbdata.csv')\n",
    "df.fillna(0, inplace=True)\n",
    "\n",
    "# Split data into validation set (2007-2008), and training\\testing set (2008-2018)\n",
    "validation_min = '2007-08-30'\n",
    "initial_start = '2008-08-30'\n",
    "validation_full = df.loc[df.Index > validation_min]\n",
    "validation = validation_full.loc[validation_full.Index < initial_start]\n",
    "dataset = df.loc[df.Index > initial_start]\n",
    "\n",
    "# Remove from consideration the predicted value (R) and the Date (Index)\n",
    "x, y = dataset.drop(['R', 'Index'], axis = 1), dataset.R\n",
    "a, b = validation.drop(['R', 'Index'], axis = 1), validation.R"
   ]
  },
  {
   "cell_type": "code",
   "execution_count": null,
   "metadata": {},
   "outputs": [],
   "source": [
    "# Split training & testing data\n",
    "x_train, x_test, y_train, y_test = train_test_split(x, \n",
    "                                                    y, \n",
    "                                                    test_size = 0.20, \n",
    "                                                    random_state = 123)\n",
    "xgb.DMatrix(x_train, y_train)"
   ]
  },
  {
   "cell_type": "code",
   "execution_count": null,
   "metadata": {},
   "outputs": [],
   "source": [
    "# Attempt to optimize hyper-parameters\n",
    "\n",
    "pbounds = {#base_score=0.5, \n",
    "           #booster='gbtree', \n",
    "           colsample_bylevel=1,\n",
    "           colsample_bynode=1, \n",
    "           colsample_bytree=1, \n",
    "           gamma=0,\n",
    "           importance_type='weight', \n",
    "           learning_rate=0.1, \n",
    "           max_delta_step=0,\n",
    "           #max_depth=3, \n",
    "                             min_child_weight=1, \n",
    "                             missing=None, \n",
    "                             n_estimators=100,\n",
    "                             n_jobs=1, \n",
    "                             nthread=None, \n",
    "                             objective='reg:squarederror', \n",
    "                             random_state=0,\n",
    "                             reg_alpha=0, \n",
    "                             reg_lambda=1, \n",
    "                             scale_pos_weight=1, \n",
    "                             seed=None,\n",
    "                             silent=None, \n",
    "                             subsample=1, \n",
    "                             verbosity=1}\n",
    "\n",
    "optimizer = BayesianOptimization(\n",
    "    f=xgb.XGBRegressor,\n",
    "    pbounds=pbounds,\n",
    "    random_state=1,\n",
    ")\n",
    "\n",
    "# Build model with XGBRegressor\n",
    "xgb_model = xgb.XGBRegressor(#base_score=0.5, \n",
    "                             #booster='gbtree', \n",
    "                             colsample_bylevel=1,\n",
    "                             colsample_bynode=1, \n",
    "                             colsample_bytree=1, \n",
    "                             gamma=0,\n",
    "                             importance_type='weight', \n",
    "                             learning_rate=0.1, \n",
    "                             max_delta_step=0,\n",
    "                             #max_depth=3, \n",
    "                             min_child_weight=1, \n",
    "                             missing=None, \n",
    "                             n_estimators=100,\n",
    "                             n_jobs=1, \n",
    "                             nthread=None, \n",
    "                             objective='reg:squarederror', \n",
    "                             random_state=0,\n",
    "                             reg_alpha=0, \n",
    "                             reg_lambda=1, \n",
    "                             scale_pos_weight=1, \n",
    "                             seed=None,\n",
    "                             silent=None, \n",
    "                             subsample=1, \n",
    "                             verbosity=1)\n",
    "xgb_model.fit(x_train, y_train)"
   ]
  },
  {
   "cell_type": "code",
   "execution_count": null,
   "metadata": {},
   "outputs": [],
   "source": [
    "# Find RMSE of prediction (try to get below 0.005)\n",
    "prediction = xgb_model.predict(x_test)\n",
    "rmse = sqrt(mean_squared_error(y_test, prediction))\n",
    "rmse"
   ]
  },
  {
   "cell_type": "code",
   "execution_count": null,
   "metadata": {},
   "outputs": [],
   "source": [
    "# Plot 20 most important features\n",
    "ax = xgb.plot_importance(xgb_model, max_num_features=20)\n",
    "fig = ax.figure\n",
    "fig.set_size_inches(20, 20)"
   ]
  },
  {
   "cell_type": "code",
   "execution_count": null,
   "metadata": {},
   "outputs": [],
   "source": [
    "# Plot predictions from validation data vs actual validation points \n",
    "validation_point = a.iloc[1:]\n",
    "validation_actual = b.iloc[1:]\n",
    "\n",
    "predicted_actual = xgb_model.predict(validation_point)\n",
    "plt.figure(figsize=(15,10))\n",
    "plt.plot(predicted_actual, label='prediction')\n",
    "plt.plot(validation_actual.values, label='actual values')\n",
    "plt.legend()"
   ]
  },
  {
   "cell_type": "code",
   "execution_count": null,
   "metadata": {},
   "outputs": [],
   "source": [
    "#Compute R^2 for model"
   ]
  }
 ],
 "metadata": {
  "kernelspec": {
   "display_name": "Python 3",
   "language": "python",
   "name": "python3"
  },
  "language_info": {
   "codemirror_mode": {
    "name": "ipython",
    "version": 3
   },
   "file_extension": ".py",
   "mimetype": "text/x-python",
   "name": "python",
   "nbconvert_exporter": "python",
   "pygments_lexer": "ipython3",
   "version": "3.7.4"
  }
 },
 "nbformat": 4,
 "nbformat_minor": 2
}
